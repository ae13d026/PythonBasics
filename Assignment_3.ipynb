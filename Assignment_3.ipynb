{
 "cells": [
  {
   "cell_type": "markdown",
   "id": "e9e85f30",
   "metadata": {},
   "source": [
    "1. Why are functions advantageous to have in your programs?\n",
    "\n",
    "Functions are used to reuse the piece of code any number of times and is very advantageous. "
   ]
  },
  {
   "cell_type": "markdown",
   "id": "f9274eaf",
   "metadata": {},
   "source": [
    "2. When does the code in a function run: when it's specified or when it's called?\n",
    "\n",
    "The sequence of statements in a function will run only when it’s called."
   ]
  },
  {
   "cell_type": "markdown",
   "id": "3752b5ad",
   "metadata": {},
   "source": [
    "3. What statement creates a function?\n",
    "\n",
    "The \"def\" keyword statement creates a function in Python\n",
    "\n",
    "A function is created as below\n",
    "\n",
    "def funcName(parameters):\n",
    "\tBody Statement\n",
    "\tBody Statement\n",
    "\treturn statement"
   ]
  },
  {
   "cell_type": "markdown",
   "id": "cf226101",
   "metadata": {},
   "source": [
    "4. What is the difference between a function and a function call?\n",
    "\n",
    "A function is a set of statements defined to accomplish a task that can be reused any number of times.\n",
    "\n",
    "A function call is an expression that calls a function by providing the required parameters to accomplish a task."
   ]
  },
  {
   "cell_type": "markdown",
   "id": "0b089929",
   "metadata": {},
   "source": [
    "5. How many global scopes are there in a Python program? How many local scopes?\n",
    "\n",
    "There is only one global scope in Python. A variable defined in the main body of a python program can be accessed from anywhere in the program.\n",
    "\n",
    "As for the local scope, a variable in local scope is available only within a function. A variable within a function can also be accessed by an enclosing function.\n",
    "\n",
    "When a variable is called by a function, the python interpreter will search for the variable in LEGB scopes. LEGB stands for local, enclosing, global and built-in scopes and python interpreter search for the variable in LEGB order and stops searches when it first founds."
   ]
  },
  {
   "cell_type": "markdown",
   "id": "23d14d41",
   "metadata": {},
   "source": [
    "6. What happens to variables in a local scope when the function call returns?\n",
    "\n",
    "The variables in local scope doesn't change with a function call. If a variable has to be changed in local scope, that variable can be declared as global variable by using keyword \"global\"."
   ]
  },
  {
   "cell_type": "markdown",
   "id": "7dd407f0",
   "metadata": {},
   "source": [
    "7. What is the concept of a return value? Is it possible to have a return value in an expression?\n",
    "\n",
    "A function can be defined to return a value or expression with a function call. If a function doesn't contain a return statement, function will return a \"None\" value. Statements after a return statement won't be executed."
   ]
  },
  {
   "cell_type": "markdown",
   "id": "4949d759",
   "metadata": {},
   "source": [
    "8. If a function does not have a return statement, what is the return value of a call to that function?\n",
    "\n",
    "In the absence of a return statement, a \"None\" value will be returned by the interpreter in python."
   ]
  },
  {
   "cell_type": "markdown",
   "id": "0ccfaf28",
   "metadata": {},
   "source": [
    "9. How do you make a function variable refer to the global variable?\n",
    "\n",
    "A function variable can be referred to as a global variable by using \"global\" keyword.\n",
    "\n",
    "Ex:\n",
    "def myfunc():\n",
    "    global x\n",
    "    x = \"global now\"\n",
    "    \n",
    "myfunc()\n",
    "print(x)\n",
    "\n",
    "The above function after execution will print \"global now\""
   ]
  },
  {
   "cell_type": "markdown",
   "id": "32b4c233",
   "metadata": {},
   "source": [
    "10. What is the data type of None?\n",
    "\n",
    "\"None\" is from the class NoneType object"
   ]
  },
  {
   "cell_type": "markdown",
   "id": "75f1a8b0",
   "metadata": {},
   "source": [
    "11. What does the sentence import areallyourpetsnamederic do?\n",
    "\n",
    "There's no library called areallyourpetsnamederic is available by default in Python. When \"import areallyourpetsnamederic\" is executed ModuleNotFound error will be thrown by the compiler. If user has defined such a module himself, Python interpreter will import that module."
   ]
  },
  {
   "cell_type": "markdown",
   "id": "1b1d40e1",
   "metadata": {},
   "source": [
    "12. If you had a bacon() feature in a spam module, what would you call it after importing spam?\n",
    "\n",
    "After importing a spam module, we can call the bacon() feature as spam.bacon() and bacon() is called a method of spam module."
   ]
  },
  {
   "cell_type": "markdown",
   "id": "6ff4ea74",
   "metadata": {},
   "source": [
    "13. What can you do to save a programme from crashing if it encounters an error?\n",
    "\n",
    "Try and except clauses are used for error handling in Python programming."
   ]
  },
  {
   "cell_type": "markdown",
   "id": "337a0aed",
   "metadata": {},
   "source": [
    "14. What is the purpose of the try clause? What is the purpose of the except clause?\n",
    "\n",
    "A \"try\" clause executes a block of statements between \"try\" and \"except\" keywords. In the absence of any error, the \"try\" clause statements will be executed and \"except\" clause statements will be skipped. If it encounters an error, the rest of the clause is skipped and it will pass the control to the except clause for exception handling.\n",
    "\n",
    "An \"except\" clause executes a block of statements in the except clause if the exception type matches from the \"try\" clause. There can be multiple \"except\" clauses for handling different exceptions from a \"try\" clause. \n",
    "\n",
    "An \"else\" clause is also available in try-except statements to handle the errors if exception clauses doesn't match."
   ]
  }
 ],
 "metadata": {
  "kernelspec": {
   "display_name": "Python 3",
   "language": "python",
   "name": "python3"
  },
  "language_info": {
   "codemirror_mode": {
    "name": "ipython",
    "version": 3
   },
   "file_extension": ".py",
   "mimetype": "text/x-python",
   "name": "python",
   "nbconvert_exporter": "python",
   "pygments_lexer": "ipython3",
   "version": "3.8.8"
  }
 },
 "nbformat": 4,
 "nbformat_minor": 5
}
